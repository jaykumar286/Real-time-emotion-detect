{
 "cells": [
  {
   "cell_type": "markdown",
   "id": "e3e0cd2e",
   "metadata": {
    "papermill": {
     "duration": 0.004459,
     "end_time": "2022-07-24T12:40:59.202886",
     "exception": false,
     "start_time": "2022-07-24T12:40:59.198427",
     "status": "completed"
    },
    "tags": []
   },
   "source": [
    "# Importing Libraries"
   ]
  },
  {
   "cell_type": "code",
   "execution_count": 1,
   "id": "cca12d7a",
   "metadata": {
    "execution": {
     "iopub.execute_input": "2022-07-24T12:40:59.211735Z",
     "iopub.status.busy": "2022-07-24T12:40:59.211240Z",
     "iopub.status.idle": "2022-07-24T12:41:05.360243Z",
     "shell.execute_reply": "2022-07-24T12:41:05.359266Z"
    },
    "papermill": {
     "duration": 6.156458,
     "end_time": "2022-07-24T12:41:05.362930",
     "exception": false,
     "start_time": "2022-07-24T12:40:59.206472",
     "status": "completed"
    },
    "tags": []
   },
   "outputs": [],
   "source": [
    "import matplotlib.pyplot as plt\n",
    "import numpy as np\n",
    "import pandas as pd\n",
    "import seaborn as sns\n",
    "import os\n",
    "\n",
    "# Importing Deep Learning Libraries\n",
    "\n",
    "from tensorflow.keras.preprocessing.image import load_img, img_to_array\n",
    "from tensorflow.keras.preprocessing.image import ImageDataGenerator\n",
    "from tensorflow.keras.layers import Dense,Input,Dropout,GlobalAveragePooling2D,Flatten,Conv2D,BatchNormalization,Activation,MaxPooling2D\n",
    "from tensorflow.keras.models import Model,Sequential\n",
    "from keras.callbacks import EarlyStopping, ReduceLROnPlateau\n"
   ]
  },
  {
   "cell_type": "markdown",
   "id": "5566292f",
   "metadata": {
    "papermill": {
     "duration": 0.003306,
     "end_time": "2022-07-24T12:41:05.369863",
     "exception": false,
     "start_time": "2022-07-24T12:41:05.366557",
     "status": "completed"
    },
    "tags": []
   },
   "source": [
    "# Displaying Images"
   ]
  },
  {
   "cell_type": "code",
   "execution_count": 2,
   "id": "8e715dc3",
   "metadata": {
    "execution": {
     "iopub.execute_input": "2022-07-24T12:41:05.378327Z",
     "iopub.status.busy": "2022-07-24T12:41:05.377764Z",
     "iopub.status.idle": "2022-07-24T12:41:05.382957Z",
     "shell.execute_reply": "2022-07-24T12:41:05.382010Z"
    },
    "papermill": {
     "duration": 0.011441,
     "end_time": "2022-07-24T12:41:05.384881",
     "exception": false,
     "start_time": "2022-07-24T12:41:05.373440",
     "status": "completed"
    },
    "tags": []
   },
   "outputs": [],
   "source": [
    "picture_size = 48\n",
    "folder_path = \"../input/face-expression-recognition-dataset/images/\""
   ]
  },
  {
   "cell_type": "markdown",
   "id": "24fedfb3",
   "metadata": {
    "papermill": {
     "duration": 0.003099,
     "end_time": "2022-07-24T12:41:05.391249",
     "exception": false,
     "start_time": "2022-07-24T12:41:05.388150",
     "status": "completed"
    },
    "tags": []
   },
   "source": [
    "# Making Training and Validation Data"
   ]
  },
  {
   "cell_type": "code",
   "execution_count": 3,
   "id": "144d04a5",
   "metadata": {
    "execution": {
     "iopub.execute_input": "2022-07-24T12:41:05.398916Z",
     "iopub.status.busy": "2022-07-24T12:41:05.398656Z",
     "iopub.status.idle": "2022-07-24T12:41:28.492252Z",
     "shell.execute_reply": "2022-07-24T12:41:28.491247Z"
    },
    "papermill": {
     "duration": 23.099931,
     "end_time": "2022-07-24T12:41:28.494419",
     "exception": false,
     "start_time": "2022-07-24T12:41:05.394488",
     "status": "completed"
    },
    "tags": []
   },
   "outputs": [
    {
     "name": "stdout",
     "output_type": "stream",
     "text": [
      "Found 28821 images belonging to 7 classes.\n",
      "Found 7066 images belonging to 7 classes.\n"
     ]
    }
   ],
   "source": [
    "batch_size  = 128\n",
    "\n",
    "datagen_train  = ImageDataGenerator()\n",
    "datagen_val = ImageDataGenerator()\n",
    "\n",
    "train_set = datagen_train.flow_from_directory(folder_path+\"train\",\n",
    "                                              target_size = (picture_size,picture_size),\n",
    "                                              color_mode = \"grayscale\",\n",
    "                                              batch_size=batch_size,\n",
    "                                              class_mode='categorical',\n",
    "                                              shuffle=True)\n",
    "\n",
    "\n",
    "test_set = datagen_val.flow_from_directory(folder_path+\"validation\",\n",
    "                                              target_size = (picture_size,picture_size),\n",
    "                                              color_mode = \"grayscale\",\n",
    "                                              batch_size=batch_size,\n",
    "                                              class_mode='categorical',\n",
    "                                              shuffle=False)"
   ]
  },
  {
   "cell_type": "markdown",
   "id": "3a294a3d",
   "metadata": {
    "papermill": {
     "duration": 0.003335,
     "end_time": "2022-07-24T12:41:28.501547",
     "exception": false,
     "start_time": "2022-07-24T12:41:28.498212",
     "status": "completed"
    },
    "tags": []
   },
   "source": [
    "# Model Building"
   ]
  },
  {
   "cell_type": "code",
   "execution_count": 4,
   "id": "54e4b0ce",
   "metadata": {
    "execution": {
     "iopub.execute_input": "2022-07-24T12:41:28.511035Z",
     "iopub.status.busy": "2022-07-24T12:41:28.509465Z",
     "iopub.status.idle": "2022-07-24T12:41:31.356706Z",
     "shell.execute_reply": "2022-07-24T12:41:31.355798Z"
    },
    "papermill": {
     "duration": 2.853817,
     "end_time": "2022-07-24T12:41:31.358730",
     "exception": false,
     "start_time": "2022-07-24T12:41:28.504913",
     "status": "completed"
    },
    "tags": []
   },
   "outputs": [
    {
     "name": "stderr",
     "output_type": "stream",
     "text": [
      "2022-07-24 12:41:28.605383: I tensorflow/stream_executor/cuda/cuda_gpu_executor.cc:937] successful NUMA node read from SysFS had negative value (-1), but there must be at least one NUMA node, so returning NUMA node zero\n",
      "2022-07-24 12:41:28.714124: I tensorflow/stream_executor/cuda/cuda_gpu_executor.cc:937] successful NUMA node read from SysFS had negative value (-1), but there must be at least one NUMA node, so returning NUMA node zero\n",
      "2022-07-24 12:41:28.714964: I tensorflow/stream_executor/cuda/cuda_gpu_executor.cc:937] successful NUMA node read from SysFS had negative value (-1), but there must be at least one NUMA node, so returning NUMA node zero\n",
      "2022-07-24 12:41:28.716205: I tensorflow/core/platform/cpu_feature_guard.cc:142] This TensorFlow binary is optimized with oneAPI Deep Neural Network Library (oneDNN) to use the following CPU instructions in performance-critical operations:  AVX2 AVX512F FMA\n",
      "To enable them in other operations, rebuild TensorFlow with the appropriate compiler flags.\n",
      "2022-07-24 12:41:28.716486: I tensorflow/stream_executor/cuda/cuda_gpu_executor.cc:937] successful NUMA node read from SysFS had negative value (-1), but there must be at least one NUMA node, so returning NUMA node zero\n",
      "2022-07-24 12:41:28.717188: I tensorflow/stream_executor/cuda/cuda_gpu_executor.cc:937] successful NUMA node read from SysFS had negative value (-1), but there must be at least one NUMA node, so returning NUMA node zero\n",
      "2022-07-24 12:41:28.717872: I tensorflow/stream_executor/cuda/cuda_gpu_executor.cc:937] successful NUMA node read from SysFS had negative value (-1), but there must be at least one NUMA node, so returning NUMA node zero\n",
      "2022-07-24 12:41:30.811558: I tensorflow/stream_executor/cuda/cuda_gpu_executor.cc:937] successful NUMA node read from SysFS had negative value (-1), but there must be at least one NUMA node, so returning NUMA node zero\n",
      "2022-07-24 12:41:30.812442: I tensorflow/stream_executor/cuda/cuda_gpu_executor.cc:937] successful NUMA node read from SysFS had negative value (-1), but there must be at least one NUMA node, so returning NUMA node zero\n",
      "2022-07-24 12:41:30.813100: I tensorflow/stream_executor/cuda/cuda_gpu_executor.cc:937] successful NUMA node read from SysFS had negative value (-1), but there must be at least one NUMA node, so returning NUMA node zero\n",
      "2022-07-24 12:41:30.813684: I tensorflow/core/common_runtime/gpu/gpu_device.cc:1510] Created device /job:localhost/replica:0/task:0/device:GPU:0 with 15403 MB memory:  -> device: 0, name: Tesla P100-PCIE-16GB, pci bus id: 0000:00:04.0, compute capability: 6.0\n"
     ]
    },
    {
     "name": "stdout",
     "output_type": "stream",
     "text": [
      "Model: \"sequential\"\n",
      "_________________________________________________________________\n",
      "Layer (type)                 Output Shape              Param #   \n",
      "=================================================================\n",
      "conv2d (Conv2D)              (None, 48, 48, 64)        640       \n",
      "_________________________________________________________________\n",
      "batch_normalization (BatchNo (None, 48, 48, 64)        256       \n",
      "_________________________________________________________________\n",
      "activation (Activation)      (None, 48, 48, 64)        0         \n",
      "_________________________________________________________________\n",
      "max_pooling2d (MaxPooling2D) (None, 24, 24, 64)        0         \n",
      "_________________________________________________________________\n",
      "dropout (Dropout)            (None, 24, 24, 64)        0         \n",
      "_________________________________________________________________\n",
      "conv2d_1 (Conv2D)            (None, 24, 24, 128)       204928    \n",
      "_________________________________________________________________\n",
      "batch_normalization_1 (Batch (None, 24, 24, 128)       512       \n",
      "_________________________________________________________________\n",
      "activation_1 (Activation)    (None, 24, 24, 128)       0         \n",
      "_________________________________________________________________\n",
      "max_pooling2d_1 (MaxPooling2 (None, 12, 12, 128)       0         \n",
      "_________________________________________________________________\n",
      "dropout_1 (Dropout)          (None, 12, 12, 128)       0         \n",
      "_________________________________________________________________\n",
      "conv2d_2 (Conv2D)            (None, 12, 12, 512)       590336    \n",
      "_________________________________________________________________\n",
      "batch_normalization_2 (Batch (None, 12, 12, 512)       2048      \n",
      "_________________________________________________________________\n",
      "activation_2 (Activation)    (None, 12, 12, 512)       0         \n",
      "_________________________________________________________________\n",
      "max_pooling2d_2 (MaxPooling2 (None, 6, 6, 512)         0         \n",
      "_________________________________________________________________\n",
      "dropout_2 (Dropout)          (None, 6, 6, 512)         0         \n",
      "_________________________________________________________________\n",
      "conv2d_3 (Conv2D)            (None, 6, 6, 512)         2359808   \n",
      "_________________________________________________________________\n",
      "batch_normalization_3 (Batch (None, 6, 6, 512)         2048      \n",
      "_________________________________________________________________\n",
      "activation_3 (Activation)    (None, 6, 6, 512)         0         \n",
      "_________________________________________________________________\n",
      "max_pooling2d_3 (MaxPooling2 (None, 3, 3, 512)         0         \n",
      "_________________________________________________________________\n",
      "dropout_3 (Dropout)          (None, 3, 3, 512)         0         \n",
      "_________________________________________________________________\n",
      "flatten (Flatten)            (None, 4608)              0         \n",
      "_________________________________________________________________\n",
      "dense (Dense)                (None, 256)               1179904   \n",
      "_________________________________________________________________\n",
      "batch_normalization_4 (Batch (None, 256)               1024      \n",
      "_________________________________________________________________\n",
      "activation_4 (Activation)    (None, 256)               0         \n",
      "_________________________________________________________________\n",
      "dropout_4 (Dropout)          (None, 256)               0         \n",
      "_________________________________________________________________\n",
      "dense_1 (Dense)              (None, 512)               131584    \n",
      "_________________________________________________________________\n",
      "batch_normalization_5 (Batch (None, 512)               2048      \n",
      "_________________________________________________________________\n",
      "activation_5 (Activation)    (None, 512)               0         \n",
      "_________________________________________________________________\n",
      "dropout_5 (Dropout)          (None, 512)               0         \n",
      "_________________________________________________________________\n",
      "dense_2 (Dense)              (None, 7)                 3591      \n",
      "=================================================================\n",
      "Total params: 4,478,727\n",
      "Trainable params: 4,474,759\n",
      "Non-trainable params: 3,968\n",
      "_________________________________________________________________\n"
     ]
    }
   ],
   "source": [
    "no_of_classes = 7\n",
    "\n",
    "model = Sequential()\n",
    "\n",
    "#1st CNN layer\n",
    "model.add(Conv2D(64,(3,3),padding = 'same',input_shape = (48,48,1)))\n",
    "model.add(BatchNormalization())\n",
    "model.add(Activation('relu'))\n",
    "model.add(MaxPooling2D(pool_size = (2,2)))\n",
    "model.add(Dropout(0.25))\n",
    "\n",
    "#2nd CNN layer\n",
    "model.add(Conv2D(128,(5,5),padding = 'same'))\n",
    "model.add(BatchNormalization())\n",
    "model.add(Activation('relu'))\n",
    "model.add(MaxPooling2D(pool_size = (2,2)))\n",
    "model.add(Dropout (0.25))\n",
    "\n",
    "#3rd CNN layer\n",
    "model.add(Conv2D(512,(3,3),padding = 'same'))\n",
    "model.add(BatchNormalization())\n",
    "model.add(Activation('relu'))\n",
    "model.add(MaxPooling2D(pool_size = (2,2)))\n",
    "model.add(Dropout (0.25))\n",
    "\n",
    "#4th CNN layer\n",
    "model.add(Conv2D(512,(3,3), padding='same'))\n",
    "model.add(BatchNormalization())\n",
    "model.add(Activation('relu'))\n",
    "model.add(MaxPooling2D(pool_size=(2, 2)))\n",
    "model.add(Dropout(0.25))\n",
    "\n",
    "model.add(Flatten())\n",
    "\n",
    "#Fully connected 1st layer\n",
    "model.add(Dense(256))\n",
    "model.add(BatchNormalization())\n",
    "model.add(Activation('relu'))\n",
    "model.add(Dropout(0.25))\n",
    "\n",
    "\n",
    "# Fully connected layer 2nd layer\n",
    "model.add(Dense(512))\n",
    "model.add(BatchNormalization())\n",
    "model.add(Activation('relu'))\n",
    "model.add(Dropout(0.25))\n",
    "\n",
    "model.add(Dense(no_of_classes, activation='softmax'))\n",
    "\n",
    "\n",
    "\n",
    "model.compile(optimizer='adam',loss='categorical_crossentropy', metrics=['accuracy'])\n",
    "model.summary()"
   ]
  },
  {
   "cell_type": "markdown",
   "id": "3ffe67e3",
   "metadata": {
    "papermill": {
     "duration": 0.003657,
     "end_time": "2022-07-24T12:41:31.366594",
     "exception": false,
     "start_time": "2022-07-24T12:41:31.362937",
     "status": "completed"
    },
    "tags": []
   },
   "source": [
    "# Fitting the Model with Training and Validation Data"
   ]
  },
  {
   "cell_type": "code",
   "execution_count": 5,
   "id": "7260e868",
   "metadata": {
    "execution": {
     "iopub.execute_input": "2022-07-24T12:41:31.376078Z",
     "iopub.status.busy": "2022-07-24T12:41:31.375411Z",
     "iopub.status.idle": "2022-07-24T12:41:31.386993Z",
     "shell.execute_reply": "2022-07-24T12:41:31.385843Z"
    },
    "papermill": {
     "duration": 0.018668,
     "end_time": "2022-07-24T12:41:31.389063",
     "exception": false,
     "start_time": "2022-07-24T12:41:31.370395",
     "status": "completed"
    },
    "tags": []
   },
   "outputs": [],
   "source": [
    "\n",
    "\n",
    "early_stopping = EarlyStopping(monitor='val_loss',\n",
    "                          min_delta=0,\n",
    "                          patience=5,\n",
    "                          verbose=1,\n",
    "                          restore_best_weights=True\n",
    "                          )\n",
    "\n",
    "reduce_learningrate = ReduceLROnPlateau(monitor='val_loss',\n",
    "                              factor=0.3,\n",
    "                              patience=5,\n",
    "                              verbose=1,\n",
    "                              min_delta=0.0001)\n",
    "\n",
    "callbacks_list = [early_stopping,reduce_learningrate]\n",
    "\n",
    "model.compile(loss='categorical_crossentropy',\n",
    "              optimizer = 'adam',\n",
    "              metrics=['accuracy'])"
   ]
  },
  {
   "cell_type": "code",
   "execution_count": 6,
   "id": "4f7fd533",
   "metadata": {
    "execution": {
     "iopub.execute_input": "2022-07-24T12:41:31.397379Z",
     "iopub.status.busy": "2022-07-24T12:41:31.397106Z",
     "iopub.status.idle": "2022-07-24T12:54:13.202126Z",
     "shell.execute_reply": "2022-07-24T12:54:13.201119Z"
    },
    "papermill": {
     "duration": 761.811715,
     "end_time": "2022-07-24T12:54:13.204458",
     "exception": false,
     "start_time": "2022-07-24T12:41:31.392743",
     "status": "completed"
    },
    "tags": []
   },
   "outputs": [
    {
     "name": "stderr",
     "output_type": "stream",
     "text": [
      "/opt/conda/lib/python3.7/site-packages/keras/engine/training.py:1972: UserWarning: `Model.fit_generator` is deprecated and will be removed in a future version. Please use `Model.fit`, which supports generators.\n",
      "  warnings.warn('`Model.fit_generator` is deprecated and '\n",
      "2022-07-24 12:41:32.080849: I tensorflow/compiler/mlir/mlir_graph_optimization_pass.cc:185] None of the MLIR Optimization Passes are enabled (registered 2)\n"
     ]
    },
    {
     "name": "stdout",
     "output_type": "stream",
     "text": [
      "Epoch 1/50\n"
     ]
    },
    {
     "name": "stderr",
     "output_type": "stream",
     "text": [
      "2022-07-24 12:41:34.550189: I tensorflow/stream_executor/cuda/cuda_dnn.cc:369] Loaded cuDNN version 8005\n"
     ]
    },
    {
     "name": "stdout",
     "output_type": "stream",
     "text": [
      "225/225 [==============================] - 175s 742ms/step - loss: 1.7721 - accuracy: 0.3183 - val_loss: 1.6192 - val_accuracy: 0.3815\n",
      "Epoch 2/50\n",
      "225/225 [==============================] - 28s 123ms/step - loss: 1.4433 - accuracy: 0.4484 - val_loss: 1.4552 - val_accuracy: 0.4413\n",
      "Epoch 3/50\n",
      "225/225 [==============================] - 29s 127ms/step - loss: 1.2874 - accuracy: 0.5026 - val_loss: 1.2906 - val_accuracy: 0.5043\n",
      "Epoch 4/50\n",
      "225/225 [==============================] - 27s 119ms/step - loss: 1.1911 - accuracy: 0.5434 - val_loss: 1.2115 - val_accuracy: 0.5453\n",
      "Epoch 5/50\n",
      "225/225 [==============================] - 27s 120ms/step - loss: 1.1285 - accuracy: 0.5728 - val_loss: 1.1925 - val_accuracy: 0.5464\n",
      "Epoch 6/50\n",
      "225/225 [==============================] - 27s 119ms/step - loss: 1.0820 - accuracy: 0.5917 - val_loss: 1.1101 - val_accuracy: 0.5797\n",
      "Epoch 7/50\n",
      "225/225 [==============================] - 28s 124ms/step - loss: 1.0360 - accuracy: 0.6095 - val_loss: 1.1371 - val_accuracy: 0.5695\n",
      "Epoch 8/50\n",
      "225/225 [==============================] - 29s 128ms/step - loss: 0.9898 - accuracy: 0.6271 - val_loss: 1.1550 - val_accuracy: 0.5628\n",
      "Epoch 9/50\n",
      "225/225 [==============================] - 27s 120ms/step - loss: 0.9519 - accuracy: 0.6434 - val_loss: 1.1466 - val_accuracy: 0.5661\n",
      "Epoch 10/50\n",
      "225/225 [==============================] - 27s 119ms/step - loss: 0.9074 - accuracy: 0.6599 - val_loss: 1.1285 - val_accuracy: 0.6016\n",
      "Epoch 11/50\n",
      "225/225 [==============================] - 27s 119ms/step - loss: 0.8600 - accuracy: 0.6782 - val_loss: 1.0684 - val_accuracy: 0.6062\n",
      "Epoch 12/50\n",
      "225/225 [==============================] - 27s 118ms/step - loss: 0.8281 - accuracy: 0.6874 - val_loss: 1.2110 - val_accuracy: 0.5670\n",
      "Epoch 13/50\n",
      "225/225 [==============================] - 27s 121ms/step - loss: 0.7806 - accuracy: 0.7079 - val_loss: 1.1136 - val_accuracy: 0.6028\n",
      "Epoch 14/50\n",
      "225/225 [==============================] - 28s 122ms/step - loss: 0.7423 - accuracy: 0.7210 - val_loss: 1.0929 - val_accuracy: 0.5986\n",
      "Epoch 15/50\n",
      "225/225 [==============================] - 27s 120ms/step - loss: 0.6931 - accuracy: 0.7418 - val_loss: 1.1914 - val_accuracy: 0.5869\n",
      "Epoch 16/50\n",
      "225/225 [==============================] - 27s 121ms/step - loss: 0.6552 - accuracy: 0.7557 - val_loss: 1.1536 - val_accuracy: 0.6205\n",
      "Restoring model weights from the end of the best epoch.\n",
      "\n",
      "Epoch 00016: ReduceLROnPlateau reducing learning rate to 0.0003000000142492354.\n",
      "Epoch 00016: early stopping\n"
     ]
    }
   ],
   "source": [
    "history = model.fit_generator(generator=train_set,\n",
    "                                steps_per_epoch=train_set.n//train_set.batch_size,\n",
    "                                epochs=50,\n",
    "                                validation_data = test_set,\n",
    "                                validation_steps = test_set.n//test_set.batch_size,\n",
    "                                callbacks=callbacks_list\n",
    "                                )"
   ]
  },
  {
   "cell_type": "code",
   "execution_count": 7,
   "id": "e9555b81",
   "metadata": {
    "execution": {
     "iopub.execute_input": "2022-07-24T12:54:13.639633Z",
     "iopub.status.busy": "2022-07-24T12:54:13.639275Z",
     "iopub.status.idle": "2022-07-24T12:54:13.835969Z",
     "shell.execute_reply": "2022-07-24T12:54:13.832375Z"
    },
    "papermill": {
     "duration": 0.419161,
     "end_time": "2022-07-24T12:54:13.838829",
     "exception": false,
     "start_time": "2022-07-24T12:54:13.419668",
     "status": "completed"
    },
    "tags": []
   },
   "outputs": [],
   "source": [
    "model.save('./'+'/train_model.h5')\n"
   ]
  },
  {
   "cell_type": "markdown",
   "id": "3acbcfa8",
   "metadata": {
    "papermill": {
     "duration": 0.250483,
     "end_time": "2022-07-24T12:54:14.457960",
     "exception": false,
     "start_time": "2022-07-24T12:54:14.207477",
     "status": "completed"
    },
    "tags": []
   },
   "source": [
    "# Plotting Accuracy & Loss"
   ]
  },
  {
   "cell_type": "code",
   "execution_count": 8,
   "id": "1d1877c3",
   "metadata": {
    "execution": {
     "iopub.execute_input": "2022-07-24T12:54:14.937052Z",
     "iopub.status.busy": "2022-07-24T12:54:14.936689Z",
     "iopub.status.idle": "2022-07-24T12:54:15.293843Z",
     "shell.execute_reply": "2022-07-24T12:54:15.292827Z"
    },
    "papermill": {
     "duration": 0.622263,
     "end_time": "2022-07-24T12:54:15.296504",
     "exception": false,
     "start_time": "2022-07-24T12:54:14.674241",
     "status": "completed"
    },
    "tags": []
   },
   "outputs": [
    {
     "data": {
      "image/png": "[encoded data removed]",
      "text/plain": [
       "<Figure size 1440x720 with 2 Axes>"
      ]
     },
     "metadata": {
      "needs_background": "light"
     },
     "output_type": "display_data"
    }
   ],
   "source": [
    "plt.figure(figsize=(20,10))\n",
    "plt.subplot(1, 2, 1)\n",
    "plt.suptitle('Optimizer : Adam', fontsize=10)\n",
    "plt.ylabel('Loss', fontsize=16)\n",
    "plt.plot(history.history['loss'], label='Training Loss')\n",
    "plt.plot(history.history['val_loss'], label='Validation Loss')\n",
    "plt.legend(loc='upper right')\n",
    "\n",
    "plt.subplot(1, 2, 2)\n",
    "plt.ylabel('Accuracy', fontsize=16)\n",
    "plt.plot(history.history['accuracy'], label='Training Accuracy')\n",
    "plt.plot(history.history['val_accuracy'], label='Validation Accuracy')\n",
    "plt.legend(loc='lower right')\n",
    "plt.show()"
   ]
  }
 ],
 "metadata": {
  "kernelspec": {
   "display_name": "Python 3",
   "language": "python",
   "name": "python3"
  },
  "language_info": {
   "codemirror_mode": {
    "name": "ipython",
    "version": 3
   },
   "file_extension": ".py",
   "mimetype": "text/x-python",
   "name": "python",
   "nbconvert_exporter": "python",
   "pygments_lexer": "ipython3",
   "version": "3.7.12"
  },
  "papermill": {
   "default_parameters": {},
   "duration": 807.618953,
   "end_time": "2022-07-24T12:54:18.895285",
   "environment_variables": {},
   "exception": null,
   "input_path": "__notebook__.ipynb",
   "output_path": "__notebook__.ipynb",
   "parameters": {},
   "start_time": "2022-07-24T12:40:51.276332",
   "version": "2.3.4"
  }
 },
 "nbformat": 4,
 "nbformat_minor": 5
}
